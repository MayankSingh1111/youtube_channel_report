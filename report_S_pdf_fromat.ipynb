{
 "cells": [
  {
   "cell_type": "code",
   "execution_count": 2,
   "id": "a9561cad-f3ba-426a-8a35-782fd1e12d2d",
   "metadata": {},
   "outputs": [],
   "source": [
    "import requests\n",
    "import pandas as pd\n",
    "import matplotlib.pyplot as plt\n",
    "import json"
   ]
  },
  {
   "cell_type": "code",
   "execution_count": 3,
   "id": "2bbd3197-1f59-4b4f-bb22-8e31bbe57eda",
   "metadata": {},
   "outputs": [],
   "source": [
    "url = \"https://youtube138.p.rapidapi.com/channel/details/\"\n",
    "headers = {\n",
    "    \"x-rapidapi-key\": \"a41154ce4emsh22cce0bbc881c45p1090d1jsna60825697687\",\n",
    "    \"x-rapidapi-host\": \"youtube138.p.rapidapi.com\"\n",
    "}"
   ]
  },
  {
   "cell_type": "code",
   "execution_count": 4,
   "id": "4f39cee1-51c9-4193-a416-4ea55c536d03",
   "metadata": {},
   "outputs": [],
   "source": [
    "def get_channel_info(channel_url):\n",
    "    querystring = {\"id\": channel_url, \"hl\": \"en\", \"gl\": \"US\"}\n",
    "    response = requests.get(url, headers=headers, params=querystring)\n",
    "    data = response.json()\n",
    "    return {\n",
    "        \"title\": data.get(\"title\"),\n",
    "        \"username\": data.get(\"username\"),\n",
    "        \"country\": data.get(\"country\", \"N/A\"),\n",
    "        \"joinedDate\": data.get(\"joinedDateText\", \"N/A\"),\n",
    "        \"subscribers\": data[\"stats\"][\"subscribers\"],\n",
    "        \"videos\": data[\"stats\"][\"videos\"],\n",
    "        \"views\": data[\"stats\"][\"views\"]\n",
    "    }\n"
   ]
  },
  {
   "cell_type": "code",
   "execution_count": 5,
   "id": "d91b73ff-6bfe-40f0-a0ee-218d3c92087f",
   "metadata": {},
   "outputs": [],
   "source": [
    "channels = [\n",
    "    \"https://www.youtube.com/@Puravjha_\",\n",
    "    \"https://www.youtube.com/@BBKiVines\",\n",
    "    \"https://www.youtube.com/@CarryMinati\"\n",
    "]\n",
    "\n",
    "channel_data = [get_channel_info(ch) for ch in channels]\n"
   ]
  },
  {
   "cell_type": "code",
   "execution_count": 6,
   "id": "7b3eec87-e960-40ca-a0aa-268173e48906",
   "metadata": {},
   "outputs": [
    {
     "data": {
      "text/html": [
       "<div>\n",
       "<style scoped>\n",
       "    .dataframe tbody tr th:only-of-type {\n",
       "        vertical-align: middle;\n",
       "    }\n",
       "\n",
       "    .dataframe tbody tr th {\n",
       "        vertical-align: top;\n",
       "    }\n",
       "\n",
       "    .dataframe thead th {\n",
       "        text-align: right;\n",
       "    }\n",
       "</style>\n",
       "<table border=\"1\" class=\"dataframe\">\n",
       "  <thead>\n",
       "    <tr style=\"text-align: right;\">\n",
       "      <th></th>\n",
       "      <th>title</th>\n",
       "      <th>username</th>\n",
       "      <th>country</th>\n",
       "      <th>joinedDate</th>\n",
       "      <th>subscribers</th>\n",
       "      <th>videos</th>\n",
       "      <th>views</th>\n",
       "    </tr>\n",
       "  </thead>\n",
       "  <tbody>\n",
       "    <tr>\n",
       "      <th>0</th>\n",
       "      <td>Purav Jha</td>\n",
       "      <td>@Puravjha_</td>\n",
       "      <td>None</td>\n",
       "      <td>Joined Nov 3, 2022</td>\n",
       "      <td>5040000</td>\n",
       "      <td>131</td>\n",
       "      <td>1036882926</td>\n",
       "    </tr>\n",
       "    <tr>\n",
       "      <th>1</th>\n",
       "      <td>BB Ki Vines</td>\n",
       "      <td>@BBKiVines</td>\n",
       "      <td>India</td>\n",
       "      <td>Joined Jun 20, 2015</td>\n",
       "      <td>26600000</td>\n",
       "      <td>194</td>\n",
       "      <td>5222698754</td>\n",
       "    </tr>\n",
       "    <tr>\n",
       "      <th>2</th>\n",
       "      <td>CarryMinati</td>\n",
       "      <td>@CarryMinati</td>\n",
       "      <td>India</td>\n",
       "      <td>Joined Oct 30, 2014</td>\n",
       "      <td>45100000</td>\n",
       "      <td>205</td>\n",
       "      <td>4252520897</td>\n",
       "    </tr>\n",
       "  </tbody>\n",
       "</table>\n",
       "</div>"
      ],
      "text/plain": [
       "         title      username country           joinedDate  subscribers  \\\n",
       "0    Purav Jha    @Puravjha_    None   Joined Nov 3, 2022      5040000   \n",
       "1  BB Ki Vines    @BBKiVines   India  Joined Jun 20, 2015     26600000   \n",
       "2  CarryMinati  @CarryMinati   India  Joined Oct 30, 2014     45100000   \n",
       "\n",
       "   videos       views  \n",
       "0     131  1036882926  \n",
       "1     194  5222698754  \n",
       "2     205  4252520897  "
      ]
     },
     "metadata": {},
     "output_type": "display_data"
    }
   ],
   "source": [
    "df = pd.DataFrame(channel_data)\n",
    "display(df)"
   ]
  },
  {
   "cell_type": "code",
   "execution_count": 7,
   "id": "f4c6e902-f7ad-4025-8d19-8e3f1c02680e",
   "metadata": {},
   "outputs": [],
   "source": [
    "def create_charts(df):\n",
    "    plt.figure(figsize=(8,5))\n",
    "    plt.bar(df[\"title\"], df[\"subscribers\"])\n",
    "    plt.title(\"Subscribers Comparison\")\n",
    "    plt.ylabel(\"Subscribers\")\n",
    "    plt.savefig(\"subscribers_chart.png\")  \n",
    "    plt.close()"
   ]
  },
  {
   "cell_type": "code",
   "execution_count": 8,
   "id": "6099f14f-2b3e-46e5-b21c-2691695d8eea",
   "metadata": {},
   "outputs": [],
   "source": [
    "    plt.figure(figsize=(8,5))\n",
    "    plt.bar(df[\"title\"], df[\"views\"])\n",
    "    plt.title(\"Total Views Comparison\")\n",
    "    plt.ylabel(\"Views\")\n",
    "    plt.savefig(\"views_chart.png\")\n",
    "    plt.close()\n"
   ]
  },
  {
   "cell_type": "code",
   "execution_count": 9,
   "id": "3280f202-6058-4c17-a6f2-739ff2a72404",
   "metadata": {},
   "outputs": [],
   "source": [
    "    plt.figure(figsize=(8,5))\n",
    "    plt.bar(df[\"title\"], df[\"videos\"])\n",
    "    plt.title(\"Total Videos Comparison\")\n",
    "    plt.ylabel(\"Videos\")\n",
    "    plt.savefig(\"videos_chart.png\")\n",
    "    plt.close()"
   ]
  },
  {
   "cell_type": "code",
   "execution_count": 10,
   "id": "dcd4c056-ad1d-40a1-b8f2-97da31f12e2b",
   "metadata": {},
   "outputs": [],
   "source": [
    "from reportlab.platypus import SimpleDocTemplate, Paragraph, Spacer, Image\n",
    "from reportlab.lib.styles import getSampleStyleSheet\n",
    "\n",
    "def create_pdf_report(df):\n",
    "    doc = SimpleDocTemplate(\"YouTube_Report.pdf\")\n",
    "    styles = getSampleStyleSheet()\n",
    "    elements = []\n",
    "    \n",
    "    # Title\n",
    "    elements.append(Paragraph(\"YouTube Channel Analytics Report\", styles[\"Title\"]))\n",
    "    elements.append(Spacer(1, 20))\n",
    "    \n",
    "    # Channel Data Table (as text summary)\n",
    "    for _, row in df.iterrows():\n",
    "        text = f\"\"\"\n",
    "        <b>{row['title']}</b><br/>\n",
    "        Username: {row['username']}<br/>\n",
    "        Country: {row['country']}<br/>\n",
    "        Joined: {row['joinedDate']}<br/>\n",
    "        Subscribers: {row['subscribers']}<br/>\n",
    "        Views: {row['views']}<br/>\n",
    "        Videos: {row['videos']}<br/><br/>\n",
    "        \"\"\"\n",
    "        elements.append(Paragraph(text, styles[\"Normal\"]))\n",
    "        elements.append(Spacer(1, 12))\n",
    "    \n",
    "    # Add Charts\n",
    "    elements.append(Paragraph(\"Charts & Comparisons\", styles[\"Heading2\"]))\n",
    "    elements.append(Spacer(1, 12))\n",
    "    \n",
    "    elements.append(Image(\"subscribers_chart.png\", width=400, height=250))\n",
    "    elements.append(Spacer(1, 12))\n",
    "    \n",
    "    elements.append(Image(\"views_chart.png\", width=400, height=250))\n",
    "    elements.append(Spacer(1, 12))\n",
    "    \n",
    "    elements.append(Image(\"videos_chart.png\", width=400, height=250))\n",
    "    elements.append(Spacer(1, 12))\n",
    "    \n",
    "    # Build PDF\n",
    "    doc.build(elements)\n",
    "    print(\"✅ PDF Report Generated: YouTube_Report.pdf\")\n"
   ]
  },
  {
   "cell_type": "code",
   "execution_count": 11,
   "id": "3b329f3c-882b-43cd-b083-7d6143ee6d83",
   "metadata": {},
   "outputs": [
    {
     "name": "stdout",
     "output_type": "stream",
     "text": [
      "✅ PDF Report Generated: YouTube_Report.pdf\n"
     ]
    }
   ],
   "source": [
    "# Fetch channel data\n",
    "channels = [\n",
    "    \"https://www.youtube.com/@Puravjha_\",\n",
    "    \"https://www.youtube.com/@BBKiVines\",\n",
    "    \"https://www.youtube.com/@CarryMinati\"\n",
    "]\n",
    "channel_data = [get_channel_info(ch) for ch in channels]\n",
    "df = pd.DataFrame(channel_data)\n",
    "\n",
    "# Create charts + PDF\n",
    "create_charts(df)\n",
    "create_pdf_report(df)\n"
   ]
  },
  {
   "cell_type": "code",
   "execution_count": null,
   "id": "2c00b31d-c027-4483-8f34-447dcb276fd6",
   "metadata": {},
   "outputs": [],
   "source": []
  },
  {
   "cell_type": "code",
   "execution_count": 14,
   "id": "d7ffd671-aa72-4306-ae9d-4d83f030bb5a",
   "metadata": {},
   "outputs": [
    {
     "name": "stdin",
     "output_type": "stream",
     "text": [
      "Enter a number : 8\n"
     ]
    }
   ],
   "source": [
    "n = int(input(\"Enter a number :\"))\n",
    "if n%2 != 0 :\n",
    "    print(\"Weird\")\n",
    "elif n%2 == 0 :\n",
    "    if (n>=2 and n<=5):\n",
    "        print(\"Not Weird\")\n",
    "elif n %2 == 0 and (n>=6 and n<=20):\n",
    "    print(\"Weird\")\n",
    "elif n%2 == 0 and n>20:\n",
    "    print(\"Not Weird\")"
   ]
  },
  {
   "cell_type": "code",
   "execution_count": null,
   "id": "cd11ff2d-a393-4583-bcaf-421734948c6d",
   "metadata": {},
   "outputs": [],
   "source": []
  }
 ],
 "metadata": {
  "kernelspec": {
   "display_name": "Python 3 (ipykernel)",
   "language": "python",
   "name": "python3"
  },
  "language_info": {
   "codemirror_mode": {
    "name": "ipython",
    "version": 3
   },
   "file_extension": ".py",
   "mimetype": "text/x-python",
   "name": "python",
   "nbconvert_exporter": "python",
   "pygments_lexer": "ipython3",
   "version": "3.13.5"
  }
 },
 "nbformat": 4,
 "nbformat_minor": 5
}
